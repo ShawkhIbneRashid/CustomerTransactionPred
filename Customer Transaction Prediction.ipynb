{
 "cells": [
  {
   "cell_type": "code",
   "execution_count": 1,
   "metadata": {},
   "outputs": [],
   "source": [
    "import numpy as np\n",
    "import pandas as pd"
   ]
  },
  {
   "cell_type": "code",
   "execution_count": 2,
   "metadata": {},
   "outputs": [],
   "source": [
    "df = pd.read_csv(\"E:/Work/Varsity/research/paper3/kaggleTransactionPrediction/santander-customer-transaction-prediction/train.csv\")"
   ]
  },
  {
   "cell_type": "code",
   "execution_count": 3,
   "metadata": {},
   "outputs": [],
   "source": [
    "ds = pd.read_csv(\"E:/Work/Varsity/research/paper3/kaggleTransactionPrediction/santander-customer-transaction-prediction/test.csv\")"
   ]
  },
  {
   "cell_type": "code",
   "execution_count": 4,
   "metadata": {},
   "outputs": [
    {
     "data": {
      "text/plain": [
       "(200000, 202)"
      ]
     },
     "execution_count": 4,
     "metadata": {},
     "output_type": "execute_result"
    }
   ],
   "source": [
    "df.shape"
   ]
  },
  {
   "cell_type": "code",
   "execution_count": 5,
   "metadata": {},
   "outputs": [
    {
     "data": {
      "text/plain": [
       "Index(['var_0', 'var_1', 'var_2', 'var_3', 'var_4', 'var_5', 'var_6', 'var_7',\n",
       "       'var_8', 'var_9',\n",
       "       ...\n",
       "       'var_190', 'var_191', 'var_192', 'var_193', 'var_194', 'var_195',\n",
       "       'var_196', 'var_197', 'var_198', 'var_199'],\n",
       "      dtype='object', length=200)"
      ]
     },
     "execution_count": 5,
     "metadata": {},
     "output_type": "execute_result"
    }
   ],
   "source": [
    "df.iloc[:,2:].columns"
   ]
  },
  {
   "cell_type": "code",
   "execution_count": 6,
   "metadata": {},
   "outputs": [],
   "source": [
    "#dropping dupicate values in data\n",
    "df.drop_duplicates(subset=df.iloc[:,2:].columns, inplace = True)"
   ]
  },
  {
   "cell_type": "code",
   "execution_count": 7,
   "metadata": {},
   "outputs": [
    {
     "data": {
      "text/plain": [
       "(200000, 202)"
      ]
     },
     "execution_count": 7,
     "metadata": {},
     "output_type": "execute_result"
    }
   ],
   "source": [
    "df.shape"
   ]
  },
  {
   "cell_type": "code",
   "execution_count": 8,
   "metadata": {},
   "outputs": [],
   "source": [
    "df = df[~pd.isnull(df).any(axis=1)]"
   ]
  },
  {
   "cell_type": "code",
   "execution_count": 9,
   "metadata": {},
   "outputs": [
    {
     "data": {
      "text/plain": [
       "(200000, 202)"
      ]
     },
     "execution_count": 9,
     "metadata": {},
     "output_type": "execute_result"
    }
   ],
   "source": [
    "df.shape"
   ]
  },
  {
   "cell_type": "code",
   "execution_count": 10,
   "metadata": {},
   "outputs": [
    {
     "data": {
      "text/plain": [
       "(94672,)"
      ]
     },
     "execution_count": 10,
     "metadata": {},
     "output_type": "execute_result"
    }
   ],
   "source": [
    "df.iloc[:,2].unique().shape"
   ]
  },
  {
   "cell_type": "code",
   "execution_count": 11,
   "metadata": {},
   "outputs": [],
   "source": [
    "def zscr(df):\n",
    "    return (df-df.mean())/df.std()"
   ]
  },
  {
   "cell_type": "code",
   "execution_count": 12,
   "metadata": {},
   "outputs": [],
   "source": [
    "for i in df.iloc[:,2:].columns:\n",
    "    df[i] = zscr(df[i])"
   ]
  },
  {
   "cell_type": "code",
   "execution_count": 13,
   "metadata": {},
   "outputs": [],
   "source": [
    "for i in ds.iloc[:,1:].columns:\n",
    "    ds[i] = zscr(ds[i])"
   ]
  },
  {
   "cell_type": "code",
   "execution_count": 14,
   "metadata": {},
   "outputs": [
    {
     "data": {
      "text/html": [
       "<div>\n",
       "<style scoped>\n",
       "    .dataframe tbody tr th:only-of-type {\n",
       "        vertical-align: middle;\n",
       "    }\n",
       "\n",
       "    .dataframe tbody tr th {\n",
       "        vertical-align: top;\n",
       "    }\n",
       "\n",
       "    .dataframe thead th {\n",
       "        text-align: right;\n",
       "    }\n",
       "</style>\n",
       "<table border=\"1\" class=\"dataframe\">\n",
       "  <thead>\n",
       "    <tr style=\"text-align: right;\">\n",
       "      <th></th>\n",
       "      <th>var_0</th>\n",
       "      <th>var_1</th>\n",
       "      <th>var_2</th>\n",
       "      <th>var_3</th>\n",
       "      <th>var_4</th>\n",
       "      <th>var_5</th>\n",
       "      <th>var_6</th>\n",
       "      <th>var_7</th>\n",
       "      <th>var_8</th>\n",
       "      <th>var_9</th>\n",
       "      <th>...</th>\n",
       "      <th>var_190</th>\n",
       "      <th>var_191</th>\n",
       "      <th>var_192</th>\n",
       "      <th>var_193</th>\n",
       "      <th>var_194</th>\n",
       "      <th>var_195</th>\n",
       "      <th>var_196</th>\n",
       "      <th>var_197</th>\n",
       "      <th>var_198</th>\n",
       "      <th>var_199</th>\n",
       "    </tr>\n",
       "  </thead>\n",
       "  <tbody>\n",
       "    <tr>\n",
       "      <th>0</th>\n",
       "      <td>0.133981</td>\n",
       "      <td>2.327440</td>\n",
       "      <td>0.852788</td>\n",
       "      <td>1.286577</td>\n",
       "      <td>0.220421</td>\n",
       "      <td>0.339301</td>\n",
       "      <td>0.502073</td>\n",
       "      <td>0.507626</td>\n",
       "      <td>0.556963</td>\n",
       "      <td>1.007084</td>\n",
       "      <td>...</td>\n",
       "      <td>-1.174486</td>\n",
       "      <td>1.451556</td>\n",
       "      <td>-2.267582</td>\n",
       "      <td>-0.218044</td>\n",
       "      <td>-1.364610</td>\n",
       "      <td>1.818981</td>\n",
       "      <td>0.380898</td>\n",
       "      <td>1.962823</td>\n",
       "      <td>-0.131944</td>\n",
       "      <td>-0.526356</td>\n",
       "    </tr>\n",
       "    <tr>\n",
       "      <th>1</th>\n",
       "      <td>-0.700868</td>\n",
       "      <td>0.712421</td>\n",
       "      <td>0.226755</td>\n",
       "      <td>-0.780628</td>\n",
       "      <td>-1.162419</td>\n",
       "      <td>0.132014</td>\n",
       "      <td>0.699023</td>\n",
       "      <td>0.613949</td>\n",
       "      <td>-1.407053</td>\n",
       "      <td>-1.295196</td>\n",
       "      <td>...</td>\n",
       "      <td>1.631805</td>\n",
       "      <td>0.455056</td>\n",
       "      <td>-0.665991</td>\n",
       "      <td>1.703420</td>\n",
       "      <td>-0.770689</td>\n",
       "      <td>0.427339</td>\n",
       "      <td>-0.693327</td>\n",
       "      <td>1.041337</td>\n",
       "      <td>1.083557</td>\n",
       "      <td>-1.705006</td>\n",
       "    </tr>\n",
       "    <tr>\n",
       "      <th>2</th>\n",
       "      <td>-1.704485</td>\n",
       "      <td>-2.161573</td>\n",
       "      <td>-0.215177</td>\n",
       "      <td>0.126508</td>\n",
       "      <td>-0.503323</td>\n",
       "      <td>1.887814</td>\n",
       "      <td>-0.601564</td>\n",
       "      <td>1.087627</td>\n",
       "      <td>0.373845</td>\n",
       "      <td>0.628959</td>\n",
       "      <td>...</td>\n",
       "      <td>-0.865295</td>\n",
       "      <td>1.168598</td>\n",
       "      <td>0.036728</td>\n",
       "      <td>-0.285818</td>\n",
       "      <td>-1.597014</td>\n",
       "      <td>1.582004</td>\n",
       "      <td>-1.725836</td>\n",
       "      <td>-2.009577</td>\n",
       "      <td>1.338250</td>\n",
       "      <td>-1.916900</td>\n",
       "    </tr>\n",
       "    <tr>\n",
       "      <th>3</th>\n",
       "      <td>-0.698563</td>\n",
       "      <td>0.074754</td>\n",
       "      <td>0.499090</td>\n",
       "      <td>-0.103917</td>\n",
       "      <td>-1.379932</td>\n",
       "      <td>1.045197</td>\n",
       "      <td>-0.549869</td>\n",
       "      <td>1.178823</td>\n",
       "      <td>0.929498</td>\n",
       "      <td>-0.090600</td>\n",
       "      <td>...</td>\n",
       "      <td>1.401911</td>\n",
       "      <td>0.534952</td>\n",
       "      <td>-0.181048</td>\n",
       "      <td>0.064892</td>\n",
       "      <td>-0.894581</td>\n",
       "      <td>2.307692</td>\n",
       "      <td>0.305857</td>\n",
       "      <td>0.344305</td>\n",
       "      <td>-0.948040</td>\n",
       "      <td>-0.092749</td>\n",
       "    </tr>\n",
       "    <tr>\n",
       "      <th>4</th>\n",
       "      <td>0.344801</td>\n",
       "      <td>0.369147</td>\n",
       "      <td>1.299238</td>\n",
       "      <td>0.468834</td>\n",
       "      <td>-1.220509</td>\n",
       "      <td>-0.449118</td>\n",
       "      <td>1.670359</td>\n",
       "      <td>-1.729997</td>\n",
       "      <td>0.813549</td>\n",
       "      <td>-0.345580</td>\n",
       "      <td>...</td>\n",
       "      <td>0.227660</td>\n",
       "      <td>0.566586</td>\n",
       "      <td>-0.434094</td>\n",
       "      <td>0.013961</td>\n",
       "      <td>0.495831</td>\n",
       "      <td>-0.106558</td>\n",
       "      <td>-1.368275</td>\n",
       "      <td>-1.763732</td>\n",
       "      <td>-0.645851</td>\n",
       "      <td>-0.571064</td>\n",
       "    </tr>\n",
       "  </tbody>\n",
       "</table>\n",
       "<p>5 rows × 200 columns</p>\n",
       "</div>"
      ],
      "text/plain": [
       "      var_0     var_1     var_2     var_3     var_4     var_5     var_6  \\\n",
       "0  0.133981  2.327440  0.852788  1.286577  0.220421  0.339301  0.502073   \n",
       "1 -0.700868  0.712421  0.226755 -0.780628 -1.162419  0.132014  0.699023   \n",
       "2 -1.704485 -2.161573 -0.215177  0.126508 -0.503323  1.887814 -0.601564   \n",
       "3 -0.698563  0.074754  0.499090 -0.103917 -1.379932  1.045197 -0.549869   \n",
       "4  0.344801  0.369147  1.299238  0.468834 -1.220509 -0.449118  1.670359   \n",
       "\n",
       "      var_7     var_8     var_9  ...   var_190   var_191   var_192   var_193  \\\n",
       "0  0.507626  0.556963  1.007084  ... -1.174486  1.451556 -2.267582 -0.218044   \n",
       "1  0.613949 -1.407053 -1.295196  ...  1.631805  0.455056 -0.665991  1.703420   \n",
       "2  1.087627  0.373845  0.628959  ... -0.865295  1.168598  0.036728 -0.285818   \n",
       "3  1.178823  0.929498 -0.090600  ...  1.401911  0.534952 -0.181048  0.064892   \n",
       "4 -1.729997  0.813549 -0.345580  ...  0.227660  0.566586 -0.434094  0.013961   \n",
       "\n",
       "    var_194   var_195   var_196   var_197   var_198   var_199  \n",
       "0 -1.364610  1.818981  0.380898  1.962823 -0.131944 -0.526356  \n",
       "1 -0.770689  0.427339 -0.693327  1.041337  1.083557 -1.705006  \n",
       "2 -1.597014  1.582004 -1.725836 -2.009577  1.338250 -1.916900  \n",
       "3 -0.894581  2.307692  0.305857  0.344305 -0.948040 -0.092749  \n",
       "4  0.495831 -0.106558 -1.368275 -1.763732 -0.645851 -0.571064  \n",
       "\n",
       "[5 rows x 200 columns]"
      ]
     },
     "execution_count": 14,
     "metadata": {},
     "output_type": "execute_result"
    }
   ],
   "source": [
    "ds.iloc[:,1:].head()"
   ]
  },
  {
   "cell_type": "code",
   "execution_count": 15,
   "metadata": {},
   "outputs": [],
   "source": [
    "from sklearn.model_selection import train_test_split\n",
    "xTrain, xTest, yTrain, yTest = train_test_split(df.iloc[:,2:], df.iloc[:,1], test_size = 0.2, random_state = 0)"
   ]
  },
  {
   "cell_type": "code",
   "execution_count": 16,
   "metadata": {},
   "outputs": [],
   "source": [
    "def getrows(chunk):\n",
    "    x = xTrain.iloc[chunk,:]\n",
    "    y = yTrain.iloc[chunk]\n",
    "    return x,y"
   ]
  },
  {
   "cell_type": "code",
   "execution_count": 17,
   "metadata": {},
   "outputs": [
    {
     "name": "stderr",
     "output_type": "stream",
     "text": [
      "c:\\users\\ratul\\anaconda3\\envs\\tensorflow\\lib\\site-packages\\sklearn\\linear_model\\stochastic_gradient.py:128: FutureWarning: max_iter and tol parameters have been added in <class 'sklearn.linear_model.stochastic_gradient.SGDClassifier'> in 0.19. If both are left unset, they default to max_iter=5 and tol=None. If tol is not None, max_iter defaults to max_iter=1000. From 0.21, default max_iter will be 1000, and default tol will be 1e-3.\n",
      "  \"and default tol will be 1e-3.\" % type(self), FutureWarning)\n"
     ]
    }
   ],
   "source": [
    "from sklearn import linear_model\n",
    " \n",
    "def iter_minibatches(chunksize):\n",
    "    # Provide chunks one by one\n",
    "    chunkstartmarker = 0\n",
    "    while chunkstartmarker < xTrain.shape[0]:\n",
    "        chunkrows = range(chunkstartmarker,chunkstartmarker+chunksize)\n",
    "        X_chunk, y_chunk = getrows(chunkrows)\n",
    "        yield X_chunk, y_chunk\n",
    "        chunkstartmarker += chunksize\n",
    " \n",
    "batcherator = iter_minibatches(chunksize=20000)\n",
    "model = linear_model.SGDClassifier(penalty=\"l2\")\n",
    "#model = LogisticRegression()\n",
    " \n",
    "# Train model\n",
    "for X_chunk, y_chunk in batcherator:\n",
    "    model.partial_fit(X_chunk, y_chunk, classes=np.unique(yTrain))\n",
    " \n",
    "# Now make predictions with trained model\n",
    "y_predicted = model.predict(xTest)\n"
   ]
  },
  {
   "cell_type": "code",
   "execution_count": 18,
   "metadata": {},
   "outputs": [
    {
     "name": "stdout",
     "output_type": "stream",
     "text": [
      "0.88025\n"
     ]
    }
   ],
   "source": [
    "from  sklearn.metrics  import accuracy_score\n",
    "print(accuracy_score(yTest,y_predicted))"
   ]
  },
  {
   "cell_type": "code",
   "execution_count": 19,
   "metadata": {},
   "outputs": [],
   "source": [
    "xTrain = df.iloc[:,2:]\n",
    "yTrain = df.iloc[:,1]\n",
    "xTest = ds.iloc[:,1:]"
   ]
  },
  {
   "cell_type": "code",
   "execution_count": 20,
   "metadata": {},
   "outputs": [
    {
     "name": "stderr",
     "output_type": "stream",
     "text": [
      "c:\\users\\ratul\\anaconda3\\envs\\tensorflow\\lib\\site-packages\\sklearn\\linear_model\\stochastic_gradient.py:128: FutureWarning: max_iter and tol parameters have been added in <class 'sklearn.linear_model.stochastic_gradient.SGDClassifier'> in 0.19. If both are left unset, they default to max_iter=5 and tol=None. If tol is not None, max_iter defaults to max_iter=1000. From 0.21, default max_iter will be 1000, and default tol will be 1e-3.\n",
      "  \"and default tol will be 1e-3.\" % type(self), FutureWarning)\n"
     ]
    }
   ],
   "source": [
    "from sklearn import linear_model\n",
    " \n",
    "def iter_minibatches(chunksize):\n",
    "    # Provide chunks one by one\n",
    "    chunkstartmarker = 0\n",
    "    while chunkstartmarker < xTrain.shape[0]:\n",
    "        chunkrows = range(chunkstartmarker,chunkstartmarker+chunksize)\n",
    "        X_chunk, y_chunk = getrows(chunkrows)\n",
    "        yield X_chunk, y_chunk\n",
    "        chunkstartmarker += chunksize\n",
    " \n",
    "batcherator = iter_minibatches(chunksize=10000)\n",
    "model = linear_model.SGDClassifier()\n",
    "#model = LogisticRegression()\n",
    " \n",
    "# Train model\n",
    "for X_chunk, y_chunk in batcherator:\n",
    "    model.partial_fit(X_chunk, y_chunk, classes=np.unique(yTrain))\n",
    " \n",
    "# Now make predictions with trained model\n",
    "y_predicted = model.predict(xTest)"
   ]
  },
  {
   "cell_type": "code",
   "execution_count": 21,
   "metadata": {},
   "outputs": [],
   "source": [
    "dfObj = pd.DataFrame(y_predicted.tolist(), columns = ['label'])"
   ]
  },
  {
   "cell_type": "code",
   "execution_count": 22,
   "metadata": {},
   "outputs": [],
   "source": [
    "li = []\n",
    "for i in range(200000):\n",
    "    li.append('test_' + str(i))"
   ]
  },
  {
   "cell_type": "code",
   "execution_count": 23,
   "metadata": {},
   "outputs": [],
   "source": [
    "dfObj['ID_code'] = li"
   ]
  },
  {
   "cell_type": "code",
   "execution_count": 24,
   "metadata": {},
   "outputs": [
    {
     "data": {
      "text/html": [
       "<div>\n",
       "<style scoped>\n",
       "    .dataframe tbody tr th:only-of-type {\n",
       "        vertical-align: middle;\n",
       "    }\n",
       "\n",
       "    .dataframe tbody tr th {\n",
       "        vertical-align: top;\n",
       "    }\n",
       "\n",
       "    .dataframe thead th {\n",
       "        text-align: right;\n",
       "    }\n",
       "</style>\n",
       "<table border=\"1\" class=\"dataframe\">\n",
       "  <thead>\n",
       "    <tr style=\"text-align: right;\">\n",
       "      <th></th>\n",
       "      <th>label</th>\n",
       "      <th>ID_code</th>\n",
       "    </tr>\n",
       "  </thead>\n",
       "  <tbody>\n",
       "    <tr>\n",
       "      <th>0</th>\n",
       "      <td>0</td>\n",
       "      <td>test_0</td>\n",
       "    </tr>\n",
       "    <tr>\n",
       "      <th>1</th>\n",
       "      <td>0</td>\n",
       "      <td>test_1</td>\n",
       "    </tr>\n",
       "    <tr>\n",
       "      <th>2</th>\n",
       "      <td>0</td>\n",
       "      <td>test_2</td>\n",
       "    </tr>\n",
       "    <tr>\n",
       "      <th>3</th>\n",
       "      <td>1</td>\n",
       "      <td>test_3</td>\n",
       "    </tr>\n",
       "    <tr>\n",
       "      <th>4</th>\n",
       "      <td>0</td>\n",
       "      <td>test_4</td>\n",
       "    </tr>\n",
       "  </tbody>\n",
       "</table>\n",
       "</div>"
      ],
      "text/plain": [
       "   label ID_code\n",
       "0      0  test_0\n",
       "1      0  test_1\n",
       "2      0  test_2\n",
       "3      1  test_3\n",
       "4      0  test_4"
      ]
     },
     "execution_count": 24,
     "metadata": {},
     "output_type": "execute_result"
    }
   ],
   "source": [
    "dfObj.head()"
   ]
  },
  {
   "cell_type": "code",
   "execution_count": 20,
   "metadata": {},
   "outputs": [],
   "source": [
    "dfObj.to_csv('predicted.csv', index = None, header=True)"
   ]
  },
  {
   "cell_type": "code",
   "execution_count": null,
   "metadata": {},
   "outputs": [],
   "source": []
  }
 ],
 "metadata": {
  "kernelspec": {
   "display_name": "Python 3",
   "language": "python",
   "name": "python3"
  },
  "language_info": {
   "codemirror_mode": {
    "name": "ipython",
    "version": 3
   },
   "file_extension": ".py",
   "mimetype": "text/x-python",
   "name": "python",
   "nbconvert_exporter": "python",
   "pygments_lexer": "ipython3",
   "version": "3.5.4"
  }
 },
 "nbformat": 4,
 "nbformat_minor": 2
}
